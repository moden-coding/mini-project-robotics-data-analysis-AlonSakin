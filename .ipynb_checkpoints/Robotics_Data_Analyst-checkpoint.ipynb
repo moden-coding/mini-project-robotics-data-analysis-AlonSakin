{
 "cells": [
  {
   "cell_type": "code",
   "execution_count": 1,
   "metadata": {
    "id": "6B5UsY3QFZSP"
   },
   "outputs": [],
   "source": [
    "# teams.csv-like rows you parsed already:\n",
    "raw_teams = [\n",
    "    [\"HHS-1729\", \"Hudson HS\", \"Ada\", \"ada@hudsonhs.org\", \"Lin\", \"lin@hudsonhs.org\"],\n",
    "    [\"FRM-101\",  \"Framingham HS\", \"Sam\", \"sam@frhs.org\", \"Tess\", \"tess@frhs.org\"],\n",
    "    [\"MRB-88\",   \"Marlborough HS\", \"Kai\", \"kai@mrbhs.org\", \"Ada\", \"ada@hudsonhs.org\"], \n",
    "    [\"WBY-77\",   \"Westborough HS\", \"Ira\", \"ira@wby.org\", \"Mo\", \"mo@wby.org\"],\n",
    "]\n",
    "\n",
    "# provisional match schedule (field, start_time, teamA, teamB)\n",
    "# Times are ISO strings in the format YYYY-MM-DDTHH:MM\n",
    "raw_matches = [\n",
    "    ('Field-2', '2025-09-27T12:30', 'FRM-101', 'WBY-77'),\n",
    "    ('Field-1', '2025-09-27T16:15', 'FRM-101', 'HHS-1729'),\n",
    "    ('Field-2', '2025-09-27T11:45', 'WBY-77', 'FRM-101'),\n",
    "    ('Field-1', '2025-09-27T11:00', 'HHS-1729', 'MRB-88'),\n",
    "    ('Field-2', '2025-09-27T17:00', 'FRM-101', 'MRB-88'),\n",
    "    ('Field-1', '2025-09-27T15:30', 'WBY-77', 'HHS-1729'),\n",
    "    ('Field-1', '2025-09-27T17:45', 'MRB-88', 'WBY-77'),\n",
    "    ('Field-2', '2025-09-27T17:45', 'HHS-1729', 'FRM-101'),\n",
    "    ('Field-2', '2025-09-27T18:30', 'MRB-88', 'HHS-1729'),\n",
    "    ('Field-1', '2025-09-27T13:15', 'HHS-1729', 'WBY-77'),\n",
    "    ('Field-2', '2025-09-27T10:15', 'MRB-88', 'WBY-77'),\n",
    "    ('Field-2', '2025-09-27T15:30', 'MRB-88', 'FRM-101'),\n",
    "    ('Field-2', '2025-09-27T14:00', 'WBY-77', 'MRB-88'),\n",
    "    ('Field-1', '2025-09-27T17:00', 'HHS-1729', 'WBY-77'),\n",
    "    ('Field-1', '2025-09-27T14:45', 'HHS-1729', 'MRB-88'),\n",
    "    ('Field-2', '2025-09-27T16:15', 'WBY-77', 'MRB-88'),\n",
    "    ('Field-1', '2025-09-27T09:30', 'WBY-77', 'HHS-1729'),\n",
    "    ('Field-1', '2025-09-27T12:30', 'MRB-88', 'HHS-1729'),\n",
    "    ('Field-2', '2025-09-27T14:45', 'FRM-101', 'WBY-77'),\n",
    "    ('Field-2', '2025-09-27T13:15', 'MRB-88', 'FRM-101'),\n",
    "    ('Field-2', '2025-09-27T09:30', 'MRB-88', 'FRM-101'),\n",
    "    ('Field-1', '2025-09-27T19:15', 'HHS-1729', 'FRM-101'),\n",
    "    ('Field-1', '2025-09-27T14:00', 'FRM-101', 'HHS-1729'),\n",
    "    ('Field-1', '2025-09-27T10:15', 'HHS-1729', 'FRM-101'),\n",
    "    ('Field-1', '2025-09-27T18:30', 'WBY-77', 'FRM-101'),\n",
    "]\n",
    "\n",
    "# reported scores (field, time, team_id, points)\n",
    "raw_scores = [\n",
    "    (\"Field-1\", \"2025-09-27T09:30\", \"WBY-77\", 22, \"HHS-1729\", 18),\n",
    "    (\"Field-2\", \"2025-09-27T09:30\", \"MRB-88\", 25, \"FRM-101\", 25),\n",
    "    (\"Field-1\", \"2025-09-27T10:15\", \"HHS-1729\", 17, \"FRM-101\", 31),\n",
    "    (\"Field-2\", \"2025-09-27T10:15\", \"MRB-88\", 27, \"WBY-77\", 23),\n",
    "    (\"Field-1\", \"2025-09-27T11:00\", \"HHS-1729\", 22, \"MRB-88\", 19),\n",
    "\n",
    "    (\"Field-2\", \"2025-09-27T11:45\", \"WBY-77\", 26, \"FRM-101\", 24),\n",
    "    (\"Field-1\", \"2025-09-27T12:30\", \"MRB-88\", 28, \"HHS-1729\", 30),\n",
    "    (\"Field-2\", \"2025-09-27T12:30\", \"FRM-101\", 24, \"WBY-77\", 22),\n",
    "    (\"Field-1\", \"2025-09-27T13:15\", \"HHS-1729\", 19, \"WBY-77\", 23),\n",
    "    (\"Field-2\", \"2025-09-27T13:15\", \"MRB-88\", 32, \"FRM-101\", 29),\n",
    "\n",
    "    (\"Field-1\", \"2025-09-27T14:00\", \"FRM-101\", 27, \"HHS-1729\", 25),\n",
    "    (\"Field-2\", \"2025-09-27T14:00\", \"WBY-77\", 20, \"MRB-88\", 22),\n",
    "    (\"Field-1\", \"2025-09-27T14:45\", \"HHS-1729\", 24, \"MRB-88\", 26),\n",
    "    (\"Field-2\", \"2025-09-27T14:45\", \"FRM-101\", 18, \"WBY-77\", 17),\n",
    "    (\"Field-1\", \"2025-09-27T15:30\", \"WBY-77\", 28, \"HHS-1729\", 31),\n",
    "\n",
    "    (\"Field-2\", \"2025-09-27T15:30\", \"MRB-88\", 24, \"FRM-101\", 26),\n",
    "    (\"Field-1\", \"2025-09-27T16:15\", \"FRM-101\", 33, \"HHS-1729\", 20),\n",
    "    (\"Field-2\", \"2025-09-27T16:15\", \"WBY-77\", 23, \"MRB-88\", 27),\n",
    "    (\"Field-1\", \"2025-09-27T17:00\", \"HHS-1729\", 29, \"WBY-77\", 27),\n",
    "    (\"Field-2\", \"2025-09-27T17:00\", \"FRM-101\", 22, \"MRB-88\", 24),\n",
    "\n",
    "    (\"Field-1\", \"2025-09-27T17:45\", \"MRB-88\", 21, \"WBY-77\", 19),\n",
    "    (\"Field-2\", \"2025-09-27T17:45\", \"HHS-1729\", 20, \"FRM-101\", 18),\n",
    "    (\"Field-1\", \"2025-09-27T18:30\", \"WBY-77\", 28, \"FRM-101\", 26),\n",
    "    (\"Field-2\", \"2025-09-27T18:30\", \"MRB-88\", 25, \"HHS-1729\", 21),\n",
    "    (\"Field-1\", \"2025-09-27T19:15\", \"HHS-1729\", 26, \"FRM-101\", 24),\n",
    "]\n",
    "\n",
    "# workshop signups: participant_email, workshop_code\n",
    "raw_workshops = [\n",
    "    (\"ada@hudsonhs.org\", \"VIS\"), \n",
    "    (\"lin@hudsonhs.org\", \"PID\"),\n",
    "    (\"sam@frhs.org\", \"PID\"), \n",
    "    (\"tess@frhs.org\", \"PID\"),\n",
    "    (\"kai@mrbhs.org\", \"PID\"), \n",
    "    (\"ira@wby.org\", \"VIS\"), \n",
    "    (\"mo@wby.org\", \"VIS\"),\n",
    "    (\"ada@hudsonhs.org\", \"PID\"),  \n",
    "]\n",
    "\n",
    "# workshop capacities (could also be given as flat CSV rows later)\n",
    "workshop_caps = [\n",
    "    (\"PID\", \"4\"),\n",
    "    (\"VIS\", \"3\")\n",
    "]"
   ]
  },
  {
   "cell_type": "markdown",
   "metadata": {
    "id": "ghDQjwkrHEgE"
   },
   "source": [
    "#Part A — Choose representations (immutability vs. mutability)\n",
    "\n",
    "1. Participants/teams: Convert each raw_teams row into a record you won’t accidentally mutate (e.g., for stable IDs).\n",
    "*   The data structure should have information about each school: team number, high school name, grouped mentor 1 information, grouped mentor 2 information\n",
    "*   **Deliverable**: a collection of team records; **justify** your data structure choice."
   ]
  },
  {
   "cell_type": "markdown",
   "metadata": {},
   "source": [
    "Teams are unpacked into an ordered list that will be used to make a useful dictionary later on."
   ]
  },
  {
   "cell_type": "code",
   "execution_count": 2,
   "metadata": {
    "id": "OVHDz11xIL1-"
   },
   "outputs": [],
   "source": [
    "teams = []\n",
    "\n",
    "for team in raw_teams:\n",
    "    # Unpack the team\n",
    "    team_id, school_name, mentor0_name, mentor0_email, mentor1_name, mentor1_email = team\n",
    "\n",
    "    # Append to to new teams list\n",
    "    teams.append((team_id, school_name, (mentor0_name, mentor0_email), (mentor1_name, mentor1_email)))"
   ]
  },
  {
   "cell_type": "code",
   "execution_count": 3,
   "metadata": {
    "id": "OVHDz11xIL1-"
   },
   "outputs": [
    {
     "name": "stdout",
     "output_type": "stream",
     "text": [
      "[('HHS-1729', 'Hudson HS', ('Ada', 'ada@hudsonhs.org'), ('Lin', 'lin@hudsonhs.org')), ('FRM-101', 'Framingham HS', ('Sam', 'sam@frhs.org'), ('Tess', 'tess@frhs.org')), ('MRB-88', 'Marlborough HS', ('Kai', 'kai@mrbhs.org'), ('Ada', 'ada@hudsonhs.org')), ('WBY-77', 'Westborough HS', ('Ira', 'ira@wby.org'), ('Mo', 'mo@wby.org'))]\n"
     ]
    }
   ],
   "source": [
    "print(teams)"
   ]
  },
  {
   "cell_type": "markdown",
   "metadata": {
    "id": "KEXLowQCIPaA"
   },
   "source": [
    "Tuples are used here instead of lists because data such as people's names and email addresses should never be changed."
   ]
  },
  {
   "cell_type": "markdown",
   "metadata": {},
   "source": [
    "\n",
    "2. Build a fast lookup from team code → school/mentors.\n",
    "*   **Deliverable**: a dictionary mapping `team_id` to a collection of information about that team. Information included should: which school is represented by the id and the team's mentors. We'll deal with points and records later"
   ]
  },
  {
   "cell_type": "code",
   "execution_count": 4,
   "metadata": {
    "id": "QM9OgkLVIMW3"
   },
   "outputs": [],
   "source": [
    "team_lookup = {}\n",
    "\n",
    "for team in teams:\n",
    "    # Unpack the team\n",
    "    team_id, school_name, mentor0, mentor1 = team\n",
    "\n",
    "    # Add to team lookup dict\n",
    "    team_lookup[team_id] = {'school': school_name, 'mentors': (mentor0, mentor1)}"
   ]
  },
  {
   "cell_type": "code",
   "execution_count": 5,
   "metadata": {
    "id": "QM9OgkLVIMW3"
   },
   "outputs": [
    {
     "name": "stdout",
     "output_type": "stream",
     "text": [
      "{'HHS-1729': {'school': 'Hudson HS', 'mentors': (('Ada', 'ada@hudsonhs.org'), ('Lin', 'lin@hudsonhs.org'))}, 'FRM-101': {'school': 'Framingham HS', 'mentors': (('Sam', 'sam@frhs.org'), ('Tess', 'tess@frhs.org'))}, 'MRB-88': {'school': 'Marlborough HS', 'mentors': (('Kai', 'kai@mrbhs.org'), ('Ada', 'ada@hudsonhs.org'))}, 'WBY-77': {'school': 'Westborough HS', 'mentors': (('Ira', 'ira@wby.org'), ('Mo', 'mo@wby.org'))}}\n"
     ]
    }
   ],
   "source": [
    "print(team_lookup)"
   ]
  },
  {
   "cell_type": "markdown",
   "metadata": {
    "id": "6tZvRBazIUU8"
   },
   "source": [
    "Dictionaries are used here because they allow to search for a specific school by id, and then get information about the school by using keys instead of indexes."
   ]
  },
  {
   "cell_type": "markdown",
   "metadata": {
    "id": "MtDKvyYoIaTq"
   },
   "source": [
    "#Part B - Sort a mixed schedule\n",
    "\n",
    "Clean and sort `raw_matches` by **start_time** then **field** (so ties on time are broken alphabetically by field). We'll talk a bit more about how to do that below.\n",
    "\n",
    "*   **Deliverable**: a list of normalized match tuples"
   ]
  },
  {
   "cell_type": "raw",
   "metadata": {},
   "source": [
    "We should see something like below after we are done:  \n",
    "\n",
    "(\"Field-1\", \"2025-09-27T09:30\", \"HHS-1729\", \"WBY-77\"),\n",
    "(\"Field-2\", \"2025-09-27T09:30\", \"FRM-101\", \"MRB-88\"),\n",
    "(\"Field-1\", \"2025-09-27T10:15\", \"FRM-101\", \"HHS-1729\"),\n",
    "(\"Field-2\", \"2025-09-27T10:15\", \"MRB-88\", \"WBY-77\"),\n",
    "(\"Field-1\", \"2025-09-27T11:00\", \"MRB-88\", \"HHS-1729\")"
   ]
  },
  {
   "cell_type": "markdown",
   "metadata": {
    "id": "zIl51MpFKSyq"
   },
   "source": [
    "In this task, we need to do multi-sorting. We might find that two matches have the same start time, which could cause a jam in our sorting. We need to break that jam by sorting using two factors. We can do that by creating an extra function to help us:\n"
   ]
  },
  {
   "cell_type": "code",
   "execution_count": 6,
   "metadata": {
    "id": "rp839VzxK4lj"
   },
   "outputs": [],
   "source": [
    "def sorting_key(match):\n",
    "    return (match[1], match[0])"
   ]
  },
  {
   "cell_type": "markdown",
   "metadata": {
    "id": "eByhciXyLtxQ"
   },
   "source": [
    "If done correctly, we should see `(\"2025-09-27T09:30\", \"Field-2\")`as the output from the function below:"
   ]
  },
  {
   "cell_type": "code",
   "execution_count": 7,
   "metadata": {
    "id": "1BQHxzf1L7YS"
   },
   "outputs": [
    {
     "name": "stdout",
     "output_type": "stream",
     "text": [
      "('2025-09-27T12:30', 'Field-2')\n"
     ]
    }
   ],
   "source": [
    "print(sorting_key(raw_matches[0]))"
   ]
  },
  {
   "cell_type": "markdown",
   "metadata": {
    "id": "zxb9lqAkLb-i"
   },
   "source": [
    "We can then apply this function to our sorting method:"
   ]
  },
  {
   "cell_type": "code",
   "execution_count": 8,
   "metadata": {
    "id": "KJKpFgy_Lg9W"
   },
   "outputs": [
    {
     "name": "stdout",
     "output_type": "stream",
     "text": [
      "('Field-1', '2025-09-27T09:30', 'WBY-77', 'HHS-1729')\n",
      "('Field-2', '2025-09-27T09:30', 'MRB-88', 'FRM-101')\n",
      "('Field-1', '2025-09-27T10:15', 'HHS-1729', 'FRM-101')\n",
      "('Field-2', '2025-09-27T10:15', 'MRB-88', 'WBY-77')\n",
      "('Field-1', '2025-09-27T11:00', 'HHS-1729', 'MRB-88')\n",
      "('Field-2', '2025-09-27T11:45', 'WBY-77', 'FRM-101')\n",
      "('Field-1', '2025-09-27T12:30', 'MRB-88', 'HHS-1729')\n",
      "('Field-2', '2025-09-27T12:30', 'FRM-101', 'WBY-77')\n",
      "('Field-1', '2025-09-27T13:15', 'HHS-1729', 'WBY-77')\n",
      "('Field-2', '2025-09-27T13:15', 'MRB-88', 'FRM-101')\n",
      "('Field-1', '2025-09-27T14:00', 'FRM-101', 'HHS-1729')\n",
      "('Field-2', '2025-09-27T14:00', 'WBY-77', 'MRB-88')\n",
      "('Field-1', '2025-09-27T14:45', 'HHS-1729', 'MRB-88')\n",
      "('Field-2', '2025-09-27T14:45', 'FRM-101', 'WBY-77')\n",
      "('Field-1', '2025-09-27T15:30', 'WBY-77', 'HHS-1729')\n",
      "('Field-2', '2025-09-27T15:30', 'MRB-88', 'FRM-101')\n",
      "('Field-1', '2025-09-27T16:15', 'FRM-101', 'HHS-1729')\n",
      "('Field-2', '2025-09-27T16:15', 'WBY-77', 'MRB-88')\n",
      "('Field-1', '2025-09-27T17:00', 'HHS-1729', 'WBY-77')\n",
      "('Field-2', '2025-09-27T17:00', 'FRM-101', 'MRB-88')\n",
      "('Field-1', '2025-09-27T17:45', 'MRB-88', 'WBY-77')\n",
      "('Field-2', '2025-09-27T17:45', 'HHS-1729', 'FRM-101')\n",
      "('Field-1', '2025-09-27T18:30', 'WBY-77', 'FRM-101')\n",
      "('Field-2', '2025-09-27T18:30', 'MRB-88', 'HHS-1729')\n",
      "('Field-1', '2025-09-27T19:15', 'HHS-1729', 'FRM-101')\n"
     ]
    }
   ],
   "source": [
    "sorted_matches = sorted(raw_matches, key=sorting_key)\n",
    "\n",
    "# Prints sorted matches cleanly\n",
    "for match in sorted_matches:\n",
    "    print(match)"
   ]
  },
  {
   "cell_type": "markdown",
   "metadata": {
    "id": "EnVT2FYOMA3_"
   },
   "source": [
    "A sorting key is used here because it is the easiest way to make this sort without me needing to code the sorting algorithm myself."
   ]
  },
  {
   "cell_type": "markdown",
   "metadata": {
    "id": "V62qMiGnKxZJ"
   },
   "source": [
    "#Part C — Detect cross-team mentor conflicts (duplicate emails)\n",
    "\n",
    "Using the team data, find any emails that appear on multiple teams.\n",
    "*   **Deliverable**: produce a report like \"xxxx@xxxxx.org\": {\"xxx-####\",\"xxx-####\"}}. Where we can see that xxxx@xxxxx.org was listed for two different teams\n",
    "\n",
    "Complete this using code that could be applied to a different data set, for example, one with more names. \n"
   ]
  },
  {
   "cell_type": "code",
   "execution_count": 9,
   "metadata": {
    "id": "tFeSvq2zNCFt"
   },
   "outputs": [
    {
     "name": "stdout",
     "output_type": "stream",
     "text": [
      "{'ada@hudsonhs.org': {'HHS-1729', 'MRB-88'}}\n"
     ]
    }
   ],
   "source": [
    "# Dumb one-liner to get all of the emails which will not actually be used\n",
    "# emails = [email for email_list in [[email[1] for email in mentor_data] for mentor_data in [school_data['mentors'] for school_data in team_lookup.values()]] for email in email_list]\n",
    "\n",
    "used_emails = {}\n",
    "duplicates = {}\n",
    "\n",
    "# Find duplicate emails (could possibly be done with .count()) \n",
    "for team_name in team_lookup:\n",
    "    # Get emails from the the team lookup\n",
    "    for mentor_email in [mentor[1] for mentor in team_lookup[team_name]['mentors']]:\n",
    "        if mentor_email in used_emails:\n",
    "            # Duplicate found, put temporary value in duplicates dictionary\n",
    "            duplicates[mentor_email] = None\n",
    "        else:\n",
    "            # No duplicate found, but write down the email to check for duplicates later\n",
    "            used_emails[mentor_email] = []\n",
    "        used_emails[mentor_email].append(team_name)\n",
    "\n",
    "# Find what teams the email is used in\n",
    "for duplicate_email in duplicates:\n",
    "    # Convert team ids to set and add to duplicates dictionary \n",
    "    duplicates[duplicate_email] = {*used_emails[duplicate_email]}\n",
    "\n",
    "print(duplicates)"
   ]
  },
  {
   "cell_type": "markdown",
   "metadata": {},
   "source": [
    "This code works by looping through the teams and checking if a mentor email has been used before, if it hasn't, it will still store the email for checking later."
   ]
  },
  {
   "cell_type": "markdown",
   "metadata": {
    "id": "FGh8WsJaNCqS"
   },
   "source": [
    "#Part D — Build standings with real aggregation tools\n",
    "\n",
    "Compute total wins by team and total points by teams across all raw_scores. Then list the teams in order. Handle ties by who scored more points.\n",
    "Deliverable: an ordered list like [(\"FRM-101\", 4, 56), (\"MRB-88\", 3, 71), ...].\n",
    "Write your code in chunks with short explanations of what you are doing after each chunk."
   ]
  },
  {
   "cell_type": "markdown",
   "metadata": {},
   "source": [
    "Write your code in chunks with short explanations of what you are doing after each chunk."
   ]
  },
  {
   "cell_type": "code",
   "execution_count": 10,
   "metadata": {
    "id": "hnnHpes7NcRr"
   },
   "outputs": [
    {
     "name": "stdout",
     "output_type": "stream",
     "text": [
      "{'HHS-1729': {'wins': 6, 'points': 302}, 'FRM-101': {'wins': 6, 'points': 327}, 'MRB-88': {'wins': 9, 'points': 300}, 'WBY-77': {'wins': 4, 'points': 278}}\n"
     ]
    }
   ],
   "source": [
    "# Initializes the dictionary with values of 0 for wins and points\n",
    "wins_and_points = {team_id:{'wins': 0, 'points': 0} for team_id in team_lookup}\n",
    "\n",
    "# Total matches played per team (will be useful for Part E)\n",
    "total_matches = {team_id:0 for team_id in team_lookup}\n",
    "\n",
    "for match in raw_scores:\n",
    "    field, time, teamA, ptsA, teamB, ptsB = match\n",
    "\n",
    "    wins_and_points[teamA]['points'] += ptsA\n",
    "    wins_and_points[teamB]['points'] += ptsB\n",
    "\n",
    "    total_matches[teamA] += 1\n",
    "    total_matches[teamB] += 1\n",
    "    \n",
    "    # Award a win to whichever team had more points\n",
    "    winner = teamA\n",
    "    if ptsB > ptsA:\n",
    "        winner = teamB\n",
    "\n",
    "    wins_and_points[winner]['wins'] += 1\n",
    "    \n",
    "print(wins_and_points)"
   ]
  },
  {
   "cell_type": "markdown",
   "metadata": {},
   "source": [
    "The above code uses a dictionary to store the wins and points of every team."
   ]
  },
  {
   "cell_type": "code",
   "execution_count": 11,
   "metadata": {
    "id": "joGY1Q5nNeU2"
   },
   "outputs": [
    {
     "name": "stdout",
     "output_type": "stream",
     "text": [
      "{'MRB-88': {'wins': 9, 'points': 300}, 'FRM-101': {'wins': 6, 'points': 327}, 'HHS-1729': {'wins': 6, 'points': 302}, 'WBY-77': {'wins': 4, 'points': 278}}\n"
     ]
    }
   ],
   "source": [
    "# Sort the dictionary by wins, and then by points if a draw if found\n",
    "sorted_wins_and_points = dict(sorted(wins_and_points.items(), key=lambda data: (data[1]['wins'], data[1]['points']), reverse=True ))\n",
    "\n",
    "print(sorted_wins_and_points)"
   ]
  },
  {
   "cell_type": "markdown",
   "metadata": {},
   "source": [
    "The dictionary is sorted using a key that checks for wins first, and then checks points if wins results in a draw."
   ]
  },
  {
   "cell_type": "code",
   "execution_count": 12,
   "metadata": {
    "id": "VtffxJdYNelP"
   },
   "outputs": [
    {
     "name": "stdout",
     "output_type": "stream",
     "text": [
      "[('MRB-88', 9, 300), ('FRM-101', 6, 327), ('HHS-1729', 6, 302), ('WBY-77', 4, 278)]\n"
     ]
    }
   ],
   "source": [
    "sorted_wins_and_points_ordered_list = []\n",
    "\n",
    "for team_id, wins_points in sorted_wins_and_points.items():\n",
    "    wins, points = wins_points.values()\n",
    "\n",
    "    sorted_wins_and_points_ordered_list.append((team_id, wins, points))\n",
    "\n",
    "print(sorted_wins_and_points_ordered_list)"
   ]
  },
  {
   "cell_type": "markdown",
   "metadata": {},
   "source": [
    "The new sorted dictionary is made into an ordered list because thats what the instructions say to return."
   ]
  },
  {
   "cell_type": "markdown",
   "metadata": {
    "id": "CVvBLr2QOEG8"
   },
   "source": [
    "#Part E — Team activity summary (grouping)\n",
    "\n",
    "Produce, for each team, a summary dict:\n",
    "\n",
    "```\n",
    "{\n",
    "  \"HHS-1729\": {\n",
    "    \"school\": \"Hudson HS\",\n",
    "    \"mentors\": [\"Ada\",\"Lin\"],\n",
    "    \"matches\": 3,\n",
    "    \"total_points\": 57,\n",
    "    \"workshops\": [\"PID\", \"VIS\"]\n",
    "  },\n",
    "  ...\n",
    "}\n",
    "```\n"
   ]
  },
  {
   "cell_type": "code",
   "execution_count": 13,
   "metadata": {
    "id": "LBPwycB5OLGX"
   },
   "outputs": [],
   "source": [
    "team_summaries = {}\n",
    "\n",
    "for team_id, team_info in team_lookup.items():\n",
    "    school_name, mentors = team_info.values()\n",
    "    mentor0, mentor1 = mentors\n",
    "\n",
    "    team_summaries[team_id] = {\n",
    "        \"school\": school_name,\n",
    "        \"mentors\": [mentor0[0], mentor1[0]],\n",
    "        \"matches\": total_matches[team_id],\n",
    "        \"total_points\": wins_and_points[team_id]['points'],\n",
    "        \"workshops\": [workshop[1] for workshop in raw_workshops if workshop[0] == mentor0[1] or workshop[0] == mentor1[1]][0:-1] # Remove last item from the list because it duplicates it??? idk why this happens\n",
    "     }"
   ]
  },
  {
   "cell_type": "code",
   "execution_count": 14,
   "metadata": {
    "id": "OMKQYIfFOZAl"
   },
   "outputs": [
    {
     "name": "stdout",
     "output_type": "stream",
     "text": [
      "{'HHS-1729': {'school': 'Hudson HS', 'mentors': ['Ada', 'Lin'], 'matches': 13, 'total_points': 302, 'workshops': ['VIS', 'PID']}, 'FRM-101': {'school': 'Framingham HS', 'mentors': ['Sam', 'Tess'], 'matches': 13, 'total_points': 327, 'workshops': ['PID']}, 'MRB-88': {'school': 'Marlborough HS', 'mentors': ['Kai', 'Ada'], 'matches': 12, 'total_points': 300, 'workshops': ['VIS', 'PID']}, 'WBY-77': {'school': 'Westborough HS', 'mentors': ['Ira', 'Mo'], 'matches': 12, 'total_points': 278, 'workshops': ['VIS']}}\n"
     ]
    }
   ],
   "source": [
    "print(team_summaries)"
   ]
  },
  {
   "cell_type": "markdown",
   "metadata": {},
   "source": [
    "All of the data obtained previously is cleaned up and put into a new dictionary with nearly all relevant information."
   ]
  }
 ],
 "metadata": {
  "colab": {
   "provenance": []
  },
  "kernelspec": {
   "display_name": "Python 3 (ipykernel)",
   "language": "python",
   "name": "python3"
  },
  "language_info": {
   "codemirror_mode": {
    "name": "ipython",
    "version": 3
   },
   "file_extension": ".py",
   "mimetype": "text/x-python",
   "name": "python",
   "nbconvert_exporter": "python",
   "pygments_lexer": "ipython3",
   "version": "3.13.5"
  }
 },
 "nbformat": 4,
 "nbformat_minor": 4
}
